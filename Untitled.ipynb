{
 "cells": [
  {
   "cell_type": "code",
   "execution_count": null,
   "id": "9900aa74",
   "metadata": {},
   "outputs": [],
   "source": [
    "! pip install numpy"
   ]
  },
  {
   "cell_type": "code",
   "execution_count": null,
   "id": "e37f75a4",
   "metadata": {},
   "outputs": [],
   "source": [
    "! pip install MoviePy"
   ]
  },
  {
   "cell_type": "code",
   "execution_count": null,
   "id": "5c36d93d",
   "metadata": {},
   "outputs": [],
   "source": [
    "\n",
    "# construct a blob from the image\n",
    "blob = cv.dnn.blobFromImage(img, 1/255.0, (416, 416), swapRB=True, crop=False)\n",
    "r = blob[0, 0, :, :]! pip install opencv-python\n",
    "! pip install glob2"
   ]
  },
  {
   "cell_type": "code",
   "execution_count": null,
   "id": "7ef0cd71",
   "metadata": {},
   "outputs": [],
   "source": []
  },
  {
   "cell_type": "code",
   "execution_count": null,
   "id": "33f47b81",
   "metadata": {},
   "outputs": [],
   "source": [
    "!pip install  weasyprint "
   ]
  },
  {
   "cell_type": "code",
   "execution_count": 1,
   "id": "25bd402b",
   "metadata": {},
   "outputs": [],
   "source": [
    "from moviepy.editor import *\n",
    "import numpy as np\n",
    "import pandas as pd \n",
    "import os\n",
    "import cv2\n",
    "import glob\n",
    "import time\n",
    "import matplotlib.pyplot as plt\n",
    "#from weasyprint import HTML"
   ]
  },
  {
   "cell_type": "code",
   "execution_count": null,
   "id": "d3e63d13",
   "metadata": {},
   "outputs": [],
   "source": [
    "image1=cv2.imread(os.path.join(\"/home/saf/yolo-det/projenv/bin\",\"test6.jpg\"))\n",
    "image2=cv2.imread(os.path.join(\"/home/saf/yolo-det/projenv/bin\",\"whitecar.png\"))"
   ]
  },
  {
   "cell_type": "code",
   "execution_count": null,
   "id": "ef8bc9b3",
   "metadata": {},
   "outputs": [],
   "source": [
    "plt.imshow(cv2.cvtColor(image2,cv2.COLOR_BGR2RGB))\n",
    "plt.imshow(cv2.cvtColor(image1,cv2.COLOR_BGR2RGB))"
   ]
  },
  {
   "cell_type": "code",
   "execution_count": null,
   "id": "59713b98",
   "metadata": {},
   "outputs": [],
   "source": [
    "image1=cv2.resize(image1,(32,32))\n",
    " #   image2=cv2.resize(image2)"
   ]
  },
  {
   "cell_type": "code",
   "execution_count": 6,
   "id": "db7a1375",
   "metadata": {},
   "outputs": [],
   "source": [
    "\n",
    "def pipeline (image):\n",
    "    image=cv2.resize(image,(416,416))\n",
    " \n",
    " \n",
    "    weightspath=os.path.join(\"/home/saf/yolo-det/projenv/bin\",\"yolov3-tiny.weights\")\n",
    "    configpath=os.path.join(\"/home/saf/yolo-det/projenv/bin\",\"yolov3-tiny.cfg\")\n",
    "    net= cv2.dnn.readNetFromDarknet(configpath,weightspath)\n",
    "\n",
    "\n",
    "    # determine the output layer\n",
    "\n",
    "    layers=net.getLayerNames()\n",
    "    outlayers= [layers[i - 1] for i in net.getUnconnectedOutLayers()]\n",
    "   \n",
    "    # Load names of classes \n",
    "\n",
    "    classes= open('/home/saf/yolo-det/projenv/bin/coco_classes').read().strip().split('\\n')\n",
    "\n",
    "\n",
    "    net.setPreferableBackend(cv2.dnn.DNN_BACKEND_OPENCV)\n",
    "    \n",
    "    # construct a blob from the image\n",
    "    blob = cv2.dnn.blobFromImage(image, 1/255.0, (416, 416), swapRB=True, crop=False)\n",
    "    r = blob[0, 0, :, :]\n",
    "    net.setInput(blob)\n",
    "    t0 = time.time()\n",
    "    global outputs \n",
    "    outputs = net.forward(outlayers)\n",
    "    t = time.time()\n",
    "    print('time=', t-t0)\n",
    "\n",
    "    \n",
    "    \n",
    "    boxes = []\n",
    "    confidences = []\n",
    "    classIDs = []\n",
    "    h, w = image.shape[:2]\n",
    "\n",
    "    for output in outputs:\n",
    "        for detection in output:\n",
    "            scores = detection[5:]\n",
    "            classID = np.argmax(scores)\n",
    "            confidence = scores[classID]\n",
    "            if confidence > 0.7:    ##only high score boxes will be kept, others will be removed\n",
    "                box = detection[:4] * np.array([w, h, w, h])\n",
    "                (centerX, centerY, width, height) = box.astype(\"int\")\n",
    "                x = int(centerX - (width / 2))\n",
    "                y = int(centerY - (height / 2))\n",
    "                box = [x, y, int(width), int(height)]\n",
    "                boxes.append(box)\n",
    "                confidences.append(float(confidence))\n",
    "                classIDs.append(classID)\n",
    "\n",
    "    indices = cv2.dnn.NMSBoxes(boxes, confidences, 0.5, 0.4)\n",
    "    l=0     #to insert objects on top of the image\n",
    "    if len(indices) > 0:  # if NMSBoxes has output ,then  insert boxes, classes, and scores of the detected objects\n",
    "        for i in indices.flatten():\n",
    "            (x, y) = (boxes[i][0], boxes[i][1])\n",
    "            (w, h) = (boxes[i][2], boxes[i][3])\n",
    "        \n",
    "            #color = [int(c) for c in colors[classIDs[i]]]\n",
    "            cv2.rectangle(image, (x, y), (x + w, y + h), (255,10,10), 2)\n",
    "            text = \"{}: {:.4f}\".format(classes[classIDs[i]], confidences[i])\n",
    "            cv2.putText(image, text, (x, y - 5), cv2.FONT_HERSHEY_SIMPLEX, 0.5, (255,10,10), 1)\n",
    "            \n",
    "            \n",
    "            # extract detected vehicles and instert them on the top of the image\n",
    "            cropim= image[y:(y + h),x:x+w,0:3]\n",
    "            rows,cols,channels = cropim.shape          \n",
    "            image[0:rows, cols*(2*l):cols*(2*l+1) ] = cropim\n",
    "            l=l+1\n",
    "    return image           \n",
    "\n",
    "#cv2.imshow('window', image)\n",
    "#cv2.waitKey(0)\n",
    "#cv2.destroyAllWindows()\n"
   ]
  },
  {
   "cell_type": "code",
   "execution_count": 7,
   "id": "12169046",
   "metadata": {},
   "outputs": [
    {
     "name": "stdout",
     "output_type": "stream",
     "text": [
      "time= 0.6746571063995361\n",
      "Moviepy - Building video /home/saf/yolo-det/projenv/bin/output_video02.mp4.\n",
      "Moviepy - Writing video /home/saf/yolo-det/projenv/bin/output_video02.mp4\n",
      "\n"
     ]
    },
    {
     "name": "stderr",
     "output_type": "stream",
     "text": [
      "t:   8%|███████▍                                                                                     | 2/25 [00:00<00:11,  2.04it/s, now=None]"
     ]
    },
    {
     "name": "stdout",
     "output_type": "stream",
     "text": [
      "time= 0.8927485942840576\n"
     ]
    },
    {
     "name": "stderr",
     "output_type": "stream",
     "text": [
      "t:  12%|███████████▏                                                                                 | 3/25 [00:01<00:13,  1.63it/s, now=None]"
     ]
    },
    {
     "name": "stdout",
     "output_type": "stream",
     "text": [
      "time= 0.67498779296875\n"
     ]
    },
    {
     "name": "stderr",
     "output_type": "stream",
     "text": [
      "t:  16%|██████████████▉                                                                              | 4/25 [00:02<00:14,  1.49it/s, now=None]"
     ]
    },
    {
     "name": "stdout",
     "output_type": "stream",
     "text": [
      "time= 0.6709554195404053\n"
     ]
    },
    {
     "name": "stderr",
     "output_type": "stream",
     "text": [
      "t:  20%|██████████████████▌                                                                          | 5/25 [00:03<00:15,  1.33it/s, now=None]"
     ]
    },
    {
     "name": "stdout",
     "output_type": "stream",
     "text": [
      "time= 0.7874116897583008\n"
     ]
    },
    {
     "name": "stderr",
     "output_type": "stream",
     "text": [
      "t:  24%|██████████████████████▎                                                                      | 6/25 [00:04<00:16,  1.17it/s, now=None]"
     ]
    },
    {
     "name": "stdout",
     "output_type": "stream",
     "text": [
      "time= 0.9501349925994873\n"
     ]
    },
    {
     "name": "stderr",
     "output_type": "stream",
     "text": [
      "t:  28%|██████████████████████████                                                                   | 7/25 [00:05<00:15,  1.14it/s, now=None]"
     ]
    },
    {
     "name": "stdout",
     "output_type": "stream",
     "text": [
      "time= 0.8031308650970459\n"
     ]
    },
    {
     "name": "stderr",
     "output_type": "stream",
     "text": [
      "t:  32%|█████████████████████████████▊                                                               | 8/25 [00:06<00:15,  1.07it/s, now=None]"
     ]
    },
    {
     "name": "stdout",
     "output_type": "stream",
     "text": [
      "time= 0.9541301727294922\n"
     ]
    },
    {
     "name": "stderr",
     "output_type": "stream",
     "text": [
      "t:  36%|█████████████████████████████████▍                                                           | 9/25 [00:07<00:14,  1.08it/s, now=None]"
     ]
    },
    {
     "name": "stdout",
     "output_type": "stream",
     "text": [
      "time= 0.818526029586792\n"
     ]
    },
    {
     "name": "stderr",
     "output_type": "stream",
     "text": [
      "t:  40%|████████████████████████████████████▊                                                       | 10/25 [00:08<00:13,  1.10it/s, now=None]"
     ]
    },
    {
     "name": "stdout",
     "output_type": "stream",
     "text": [
      "time= 0.7321841716766357\n"
     ]
    },
    {
     "name": "stderr",
     "output_type": "stream",
     "text": [
      "t:  44%|████████████████████████████████████████▍                                                   | 11/25 [00:09<00:13,  1.05it/s, now=None]"
     ]
    },
    {
     "name": "stdout",
     "output_type": "stream",
     "text": [
      "time= 0.9262323379516602\n"
     ]
    },
    {
     "name": "stderr",
     "output_type": "stream",
     "text": [
      "t:  48%|████████████████████████████████████████████▏                                               | 12/25 [00:10<00:11,  1.11it/s, now=None]"
     ]
    },
    {
     "name": "stdout",
     "output_type": "stream",
     "text": [
      "time= 0.711561918258667\n"
     ]
    },
    {
     "name": "stderr",
     "output_type": "stream",
     "text": [
      "t:  52%|███████████████████████████████████████████████▊                                            | 13/25 [00:11<00:11,  1.03it/s, now=None]"
     ]
    },
    {
     "name": "stdout",
     "output_type": "stream",
     "text": [
      "time= 1.0412728786468506\n"
     ]
    },
    {
     "name": "stderr",
     "output_type": "stream",
     "text": [
      "t:  56%|███████████████████████████████████████████████████▌                                        | 14/25 [00:12<00:11,  1.05s/it, now=None]"
     ]
    },
    {
     "name": "stdout",
     "output_type": "stream",
     "text": [
      "time= 1.0687212944030762\n"
     ]
    },
    {
     "name": "stderr",
     "output_type": "stream",
     "text": [
      "t:  60%|███████████████████████████████████████████████████████▏                                    | 15/25 [00:13<00:11,  1.15s/it, now=None]"
     ]
    },
    {
     "name": "stdout",
     "output_type": "stream",
     "text": [
      "time= 1.2622597217559814\n"
     ]
    },
    {
     "name": "stderr",
     "output_type": "stream",
     "text": [
      "t:  64%|██████████████████████████████████████████████████████████▉                                 | 16/25 [00:15<00:10,  1.21s/it, now=None]"
     ]
    },
    {
     "name": "stdout",
     "output_type": "stream",
     "text": [
      "time= 1.2285075187683105\n"
     ]
    },
    {
     "name": "stderr",
     "output_type": "stream",
     "text": [
      "t:  68%|██████████████████████████████████████████████████████████████▌                             | 17/25 [00:16<00:09,  1.24s/it, now=None]"
     ]
    },
    {
     "name": "stdout",
     "output_type": "stream",
     "text": [
      "time= 1.1945576667785645\n"
     ]
    },
    {
     "name": "stderr",
     "output_type": "stream",
     "text": [
      "t:  72%|██████████████████████████████████████████████████████████████████▏                         | 18/25 [00:17<00:07,  1.08s/it, now=None]"
     ]
    },
    {
     "name": "stdout",
     "output_type": "stream",
     "text": [
      "time= 0.610896110534668\n"
     ]
    },
    {
     "name": "stderr",
     "output_type": "stream",
     "text": [
      "t:  76%|█████████████████████████████████████████████████████████████████████▉                      | 19/25 [00:18<00:06,  1.02s/it, now=None]"
     ]
    },
    {
     "name": "stdout",
     "output_type": "stream",
     "text": [
      "time= 0.7654256820678711\n"
     ]
    },
    {
     "name": "stderr",
     "output_type": "stream",
     "text": [
      "t:  80%|█████████████████████████████████████████████████████████████████████████▌                  | 20/25 [00:18<00:04,  1.05it/s, now=None]"
     ]
    },
    {
     "name": "stdout",
     "output_type": "stream",
     "text": [
      "time= 0.6838161945343018\n"
     ]
    },
    {
     "name": "stderr",
     "output_type": "stream",
     "text": [
      "t:  84%|█████████████████████████████████████████████████████████████████████████████▎              | 21/25 [00:19<00:03,  1.11it/s, now=None]"
     ]
    },
    {
     "name": "stdout",
     "output_type": "stream",
     "text": [
      "time= 0.6813018321990967\n"
     ]
    },
    {
     "name": "stderr",
     "output_type": "stream",
     "text": [
      "t:  88%|████████████████████████████████████████████████████████████████████████████████▉           | 22/25 [00:20<00:02,  1.08it/s, now=None]"
     ]
    },
    {
     "name": "stdout",
     "output_type": "stream",
     "text": [
      "time= 0.9088277816772461\n"
     ]
    },
    {
     "name": "stderr",
     "output_type": "stream",
     "text": [
      "t:  92%|████████████████████████████████████████████████████████████████████████████████████▋       | 23/25 [00:21<00:01,  1.10it/s, now=None]"
     ]
    },
    {
     "name": "stdout",
     "output_type": "stream",
     "text": [
      "time= 0.7128303050994873\n"
     ]
    },
    {
     "name": "stderr",
     "output_type": "stream",
     "text": [
      "t:  96%|████████████████████████████████████████████████████████████████████████████████████████▎   | 24/25 [00:22<00:00,  1.11it/s, now=None]"
     ]
    },
    {
     "name": "stdout",
     "output_type": "stream",
     "text": [
      "time= 0.800041675567627\n"
     ]
    },
    {
     "name": "stderr",
     "output_type": "stream",
     "text": [
      "t: 100%|████████████████████████████████████████████████████████████████████████████████████████████| 25/25 [00:23<00:00,  1.17it/s, now=None]"
     ]
    },
    {
     "name": "stdout",
     "output_type": "stream",
     "text": [
      "time= 0.6616735458374023\n"
     ]
    },
    {
     "name": "stderr",
     "output_type": "stream",
     "text": [
      "                                                                                                                                              "
     ]
    },
    {
     "name": "stdout",
     "output_type": "stream",
     "text": [
      "time= 0.718224048614502\n"
     ]
    },
    {
     "name": "stderr",
     "output_type": "stream",
     "text": [
      "\r"
     ]
    },
    {
     "name": "stdout",
     "output_type": "stream",
     "text": [
      "Moviepy - Done !\n",
      "Moviepy - video ready /home/saf/yolo-det/projenv/bin/output_video02.mp4\n",
      "CPU times: user 26.5 s, sys: 1.13 s, total: 27.6 s\n",
      "Wall time: 24.9 s\n"
     ]
    },
    {
     "ename": "FileNotFoundError",
     "evalue": "[Errno 2] No such file or directory: '\\n<video  width=\"960\" height=\"540\" controls>\\n  <source src=\"/home/saf/yolo-det/projenv/bin/output_video02.mp4\">\\n</video>\\n'",
     "output_type": "error",
     "traceback": [
      "\u001b[0;31m---------------------------------------------------------------------------\u001b[0m",
      "\u001b[0;31mFileNotFoundError\u001b[0m                         Traceback (most recent call last)",
      "Input \u001b[0;32mIn [7]\u001b[0m, in \u001b[0;36m<cell line: 8>\u001b[0;34m()\u001b[0m\n\u001b[1;32m      5\u001b[0m out_clip \u001b[38;5;241m=\u001b[39m clip1\u001b[38;5;241m.\u001b[39mfl_image(pipeline) \u001b[38;5;66;03m#NOTE: this function expects color images!!\u001b[39;00m\n\u001b[1;32m      6\u001b[0m get_ipython()\u001b[38;5;241m.\u001b[39mrun_line_magic(\u001b[38;5;124m'\u001b[39m\u001b[38;5;124mtime\u001b[39m\u001b[38;5;124m'\u001b[39m, \u001b[38;5;124m'\u001b[39m\u001b[38;5;124mout_clip.write_videofile(output, audio=False)\u001b[39m\u001b[38;5;124m'\u001b[39m)\n\u001b[0;32m----> 8\u001b[0m \u001b[43mHTML\u001b[49m\u001b[43m(\u001b[49m\u001b[38;5;124;43m\"\"\"\u001b[39;49m\n\u001b[1;32m      9\u001b[0m \u001b[38;5;124;43m<video  width=\u001b[39;49m\u001b[38;5;124;43m\"\u001b[39;49m\u001b[38;5;124;43m960\u001b[39;49m\u001b[38;5;124;43m\"\u001b[39;49m\u001b[38;5;124;43m height=\u001b[39;49m\u001b[38;5;124;43m\"\u001b[39;49m\u001b[38;5;124;43m540\u001b[39;49m\u001b[38;5;124;43m\"\u001b[39;49m\u001b[38;5;124;43m controls>\u001b[39;49m\n\u001b[1;32m     10\u001b[0m \u001b[38;5;124;43m  <source src=\u001b[39;49m\u001b[38;5;124;43m\"\u001b[39;49m\u001b[38;5;132;43;01m{0}\u001b[39;49;00m\u001b[38;5;124;43m\"\u001b[39;49m\u001b[38;5;124;43m>\u001b[39;49m\n\u001b[1;32m     11\u001b[0m \u001b[38;5;124;43m</video>\u001b[39;49m\n\u001b[1;32m     12\u001b[0m \u001b[38;5;124;43m\"\"\"\u001b[39;49m\u001b[38;5;241;43m.\u001b[39;49m\u001b[43mformat\u001b[49m\u001b[43m(\u001b[49m\u001b[43moutput\u001b[49m\u001b[43m)\u001b[49m\u001b[43m)\u001b[49m\n",
      "File \u001b[0;32m~/yolo-det/projenv/lib/python3.8/site-packages/weasyprint/__init__.py:79\u001b[0m, in \u001b[0;36mHTML.__init__\u001b[0;34m(self, guess, filename, url, file_obj, string, encoding, base_url, url_fetcher, media_type)\u001b[0m\n\u001b[1;32m     73\u001b[0m PROGRESS_LOGGER\u001b[38;5;241m.\u001b[39minfo(\n\u001b[1;32m     74\u001b[0m     \u001b[38;5;124m'\u001b[39m\u001b[38;5;124mStep 1 - Fetching and parsing HTML - \u001b[39m\u001b[38;5;132;01m%s\u001b[39;00m\u001b[38;5;124m'\u001b[39m,\n\u001b[1;32m     75\u001b[0m     guess \u001b[38;5;129;01mor\u001b[39;00m filename \u001b[38;5;129;01mor\u001b[39;00m url \u001b[38;5;129;01mor\u001b[39;00m\n\u001b[1;32m     76\u001b[0m     \u001b[38;5;28mgetattr\u001b[39m(file_obj, \u001b[38;5;124m'\u001b[39m\u001b[38;5;124mname\u001b[39m\u001b[38;5;124m'\u001b[39m, \u001b[38;5;124m'\u001b[39m\u001b[38;5;124mHTML string\u001b[39m\u001b[38;5;124m'\u001b[39m))\n\u001b[1;32m     77\u001b[0m result \u001b[38;5;241m=\u001b[39m _select_source(\n\u001b[1;32m     78\u001b[0m     guess, filename, url, file_obj, string, base_url, url_fetcher)\n\u001b[0;32m---> 79\u001b[0m \u001b[38;5;28;01mwith\u001b[39;00m result \u001b[38;5;28;01mas\u001b[39;00m (source_type, source, base_url, protocol_encoding):\n\u001b[1;32m     80\u001b[0m     \u001b[38;5;28;01mif\u001b[39;00m \u001b[38;5;28misinstance\u001b[39m(source, \u001b[38;5;28mstr\u001b[39m):\n\u001b[1;32m     81\u001b[0m         result \u001b[38;5;241m=\u001b[39m html5lib\u001b[38;5;241m.\u001b[39mparse(source, namespaceHTMLElements\u001b[38;5;241m=\u001b[39m\u001b[38;5;28;01mFalse\u001b[39;00m)\n",
      "File \u001b[0;32m/usr/lib/python3.8/contextlib.py:113\u001b[0m, in \u001b[0;36m_GeneratorContextManager.__enter__\u001b[0;34m(self)\u001b[0m\n\u001b[1;32m    111\u001b[0m \u001b[38;5;28;01mdel\u001b[39;00m \u001b[38;5;28mself\u001b[39m\u001b[38;5;241m.\u001b[39margs, \u001b[38;5;28mself\u001b[39m\u001b[38;5;241m.\u001b[39mkwds, \u001b[38;5;28mself\u001b[39m\u001b[38;5;241m.\u001b[39mfunc\n\u001b[1;32m    112\u001b[0m \u001b[38;5;28;01mtry\u001b[39;00m:\n\u001b[0;32m--> 113\u001b[0m     \u001b[38;5;28;01mreturn\u001b[39;00m \u001b[38;5;28;43mnext\u001b[39;49m\u001b[43m(\u001b[49m\u001b[38;5;28;43mself\u001b[39;49m\u001b[38;5;241;43m.\u001b[39;49m\u001b[43mgen\u001b[49m\u001b[43m)\u001b[49m\n\u001b[1;32m    114\u001b[0m \u001b[38;5;28;01mexcept\u001b[39;00m \u001b[38;5;167;01mStopIteration\u001b[39;00m:\n\u001b[1;32m    115\u001b[0m     \u001b[38;5;28;01mraise\u001b[39;00m \u001b[38;5;167;01mRuntimeError\u001b[39;00m(\u001b[38;5;124m\"\u001b[39m\u001b[38;5;124mgenerator didn\u001b[39m\u001b[38;5;124m'\u001b[39m\u001b[38;5;124mt yield\u001b[39m\u001b[38;5;124m\"\u001b[39m) \u001b[38;5;28;01mfrom\u001b[39;00m \u001b[38;5;28mNone\u001b[39m\n",
      "File \u001b[0;32m~/yolo-det/projenv/lib/python3.8/site-packages/weasyprint/__init__.py:278\u001b[0m, in \u001b[0;36m_select_source\u001b[0;34m(guess, filename, url, file_obj, string, base_url, url_fetcher, check_css_mime_type)\u001b[0m\n\u001b[1;32m    273\u001b[0m         type_ \u001b[38;5;241m=\u001b[39m \u001b[38;5;124m'\u001b[39m\u001b[38;5;124mfilename\u001b[39m\u001b[38;5;124m'\u001b[39m\n\u001b[1;32m    274\u001b[0m     result \u001b[38;5;241m=\u001b[39m _select_source(\n\u001b[1;32m    275\u001b[0m         base_url\u001b[38;5;241m=\u001b[39mbase_url, url_fetcher\u001b[38;5;241m=\u001b[39murl_fetcher,\n\u001b[1;32m    276\u001b[0m         check_css_mime_type\u001b[38;5;241m=\u001b[39mcheck_css_mime_type,\n\u001b[1;32m    277\u001b[0m         \u001b[38;5;241m*\u001b[39m\u001b[38;5;241m*\u001b[39m{type_: guess})\n\u001b[0;32m--> 278\u001b[0m     \u001b[38;5;28;01mwith\u001b[39;00m result \u001b[38;5;28;01mas\u001b[39;00m result:\n\u001b[1;32m    279\u001b[0m         \u001b[38;5;28;01myield\u001b[39;00m result\n\u001b[1;32m    280\u001b[0m \u001b[38;5;28;01melif\u001b[39;00m filename \u001b[38;5;129;01mis\u001b[39;00m \u001b[38;5;129;01mnot\u001b[39;00m \u001b[38;5;28;01mNone\u001b[39;00m:\n",
      "File \u001b[0;32m/usr/lib/python3.8/contextlib.py:113\u001b[0m, in \u001b[0;36m_GeneratorContextManager.__enter__\u001b[0;34m(self)\u001b[0m\n\u001b[1;32m    111\u001b[0m \u001b[38;5;28;01mdel\u001b[39;00m \u001b[38;5;28mself\u001b[39m\u001b[38;5;241m.\u001b[39margs, \u001b[38;5;28mself\u001b[39m\u001b[38;5;241m.\u001b[39mkwds, \u001b[38;5;28mself\u001b[39m\u001b[38;5;241m.\u001b[39mfunc\n\u001b[1;32m    112\u001b[0m \u001b[38;5;28;01mtry\u001b[39;00m:\n\u001b[0;32m--> 113\u001b[0m     \u001b[38;5;28;01mreturn\u001b[39;00m \u001b[38;5;28;43mnext\u001b[39;49m\u001b[43m(\u001b[49m\u001b[38;5;28;43mself\u001b[39;49m\u001b[38;5;241;43m.\u001b[39;49m\u001b[43mgen\u001b[49m\u001b[43m)\u001b[49m\n\u001b[1;32m    114\u001b[0m \u001b[38;5;28;01mexcept\u001b[39;00m \u001b[38;5;167;01mStopIteration\u001b[39;00m:\n\u001b[1;32m    115\u001b[0m     \u001b[38;5;28;01mraise\u001b[39;00m \u001b[38;5;167;01mRuntimeError\u001b[39;00m(\u001b[38;5;124m\"\u001b[39m\u001b[38;5;124mgenerator didn\u001b[39m\u001b[38;5;124m'\u001b[39m\u001b[38;5;124mt yield\u001b[39m\u001b[38;5;124m\"\u001b[39m) \u001b[38;5;28;01mfrom\u001b[39;00m \u001b[38;5;28mNone\u001b[39m\n",
      "File \u001b[0;32m~/yolo-det/projenv/lib/python3.8/site-packages/weasyprint/__init__.py:283\u001b[0m, in \u001b[0;36m_select_source\u001b[0;34m(guess, filename, url, file_obj, string, base_url, url_fetcher, check_css_mime_type)\u001b[0m\n\u001b[1;32m    281\u001b[0m     \u001b[38;5;28;01mif\u001b[39;00m base_url \u001b[38;5;129;01mis\u001b[39;00m \u001b[38;5;28;01mNone\u001b[39;00m:\n\u001b[1;32m    282\u001b[0m         base_url \u001b[38;5;241m=\u001b[39m path2url(filename)\n\u001b[0;32m--> 283\u001b[0m     \u001b[38;5;28;01mwith\u001b[39;00m \u001b[38;5;28;43mopen\u001b[39;49m\u001b[43m(\u001b[49m\u001b[43mfilename\u001b[49m\u001b[43m,\u001b[49m\u001b[43m \u001b[49m\u001b[38;5;124;43m'\u001b[39;49m\u001b[38;5;124;43mrb\u001b[39;49m\u001b[38;5;124;43m'\u001b[39;49m\u001b[43m)\u001b[49m \u001b[38;5;28;01mas\u001b[39;00m file_obj:\n\u001b[1;32m    284\u001b[0m         \u001b[38;5;28;01myield\u001b[39;00m \u001b[38;5;124m'\u001b[39m\u001b[38;5;124mfile_obj\u001b[39m\u001b[38;5;124m'\u001b[39m, file_obj, base_url, \u001b[38;5;28;01mNone\u001b[39;00m\n\u001b[1;32m    285\u001b[0m \u001b[38;5;28;01melif\u001b[39;00m url \u001b[38;5;129;01mis\u001b[39;00m \u001b[38;5;129;01mnot\u001b[39;00m \u001b[38;5;28;01mNone\u001b[39;00m:\n",
      "\u001b[0;31mFileNotFoundError\u001b[0m: [Errno 2] No such file or directory: '\\n<video  width=\"960\" height=\"540\" controls>\\n  <source src=\"/home/saf/yolo-det/projenv/bin/output_video02.mp4\">\\n</video>\\n'"
     ]
    }
   ],
   "source": [
    "output = '/home/saf/yolo-det/projenv/bin/output_video02.mp4'\n",
    "clip1 = VideoFileClip(\"/home/saf/yolo-det/projenv/bin/project_video_01_01.mp4\")\n",
    "\n",
    "\n",
    "out_clip = clip1.fl_image(pipeline) #NOTE: this function expects color images!!\n",
    "%time out_clip.write_videofile(output, audio=False)\n",
    "\n",
    "HTML(\"\"\"\n",
    "<video  width=\"960\" height=\"540\" controls>\n",
    "  <source src=\"{0}\">\n",
    "</video>\n",
    "\"\"\".format(output))"
   ]
  },
  {
   "cell_type": "code",
   "execution_count": null,
   "id": "86d58726",
   "metadata": {},
   "outputs": [],
   "source": [
    " assignment destination is read-onlytype(clip1)"
   ]
  },
  {
   "cell_type": "code",
   "execution_count": null,
   "id": "5e0a4c4c",
   "metadata": {},
   "outputs": [],
   "source": []
  }
 ],
 "metadata": {
  "kernelspec": {
   "display_name": "Python 3 (ipykernel)",
   "language": "python",
   "name": "python3"
  },
  "language_info": {
   "codemirror_mode": {
    "name": "ipython",
    "version": 3
   },
   "file_extension": ".py",
   "mimetype": "text/x-python",
   "name": "python",
   "nbconvert_exporter": "python",
   "pygments_lexer": "ipython3",
   "version": "3.8.10"
  }
 },
 "nbformat": 4,
 "nbformat_minor": 5
}
